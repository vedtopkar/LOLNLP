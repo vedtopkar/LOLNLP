{
 "metadata": {
  "name": "",
  "signature": "sha256:29b4a06dd9cacae2a65bdf7f1e666d064af80f7e93511560117de2ca7c6dd253"
 },
 "nbformat": 3,
 "nbformat_minor": 0,
 "worksheets": [
  {
   "cells": [
    {
     "cell_type": "markdown",
     "metadata": {},
     "source": [
      "# Parts of Speech Tagging"
     ]
    },
    {
     "cell_type": "code",
     "collapsed": false,
     "input": [
      "import nltk"
     ],
     "language": "python",
     "metadata": {},
     "outputs": [],
     "prompt_number": 1
    },
    {
     "cell_type": "code",
     "collapsed": false,
     "input": [
      "sentence = 'When someone says you\\'re fat and shouldn\\'t eat as much'\n",
      "nltk.pos_tag(nltk.word_tokenize(sentence))"
     ],
     "language": "python",
     "metadata": {},
     "outputs": [
      {
       "metadata": {},
       "output_type": "pyout",
       "prompt_number": 3,
       "text": [
        "[('When', 'WRB'),\n",
        " ('someone', 'NN'),\n",
        " ('says', 'VBZ'),\n",
        " ('you', 'PRP'),\n",
        " (\"'re\", 'VBP'),\n",
        " ('fat', 'JJ'),\n",
        " ('and', 'CC'),\n",
        " ('should', 'MD'),\n",
        " (\"n't\", 'RB'),\n",
        " ('eat', 'VB'),\n",
        " ('as', 'IN'),\n",
        " ('much', 'JJ')]"
       ]
      }
     ],
     "prompt_number": 3
    },
    {
     "cell_type": "code",
     "collapsed": false,
     "input": [
      "# Given a table of our GIF URls, GIF Titles, and article titles, do POS Tagging\n",
      "text = df['Text']\n",
      "poss = [nltk.pos_tag(nltk.word_tokenize(x)) for x in text]\n"
     ],
     "language": "python",
     "metadata": {},
     "outputs": [
      {
       "ename": "SyntaxError",
       "evalue": "invalid syntax (<ipython-input-4-69239955f4a5>, line 2)",
       "output_type": "pyerr",
       "traceback": [
        "\u001b[0;36m  File \u001b[0;32m\"<ipython-input-4-69239955f4a5>\"\u001b[0;36m, line \u001b[0;32m2\u001b[0m\n\u001b[0;31m    df =\u001b[0m\n\u001b[0m         ^\u001b[0m\n\u001b[0;31mSyntaxError\u001b[0m\u001b[0;31m:\u001b[0m invalid syntax\n"
       ]
      }
     ],
     "prompt_number": 4
    },
    {
     "cell_type": "code",
     "collapsed": false,
     "input": [
      "nltk.help.upenn_tagset('RB')"
     ],
     "language": "python",
     "metadata": {},
     "outputs": [
      {
       "output_type": "stream",
       "stream": "stdout",
       "text": [
        "RB: adverb\n",
        "    occasionally unabatingly maddeningly adventurously professedly\n",
        "    stirringly prominently technologically magisterially predominately\n",
        "    swiftly fiscally pitilessly ...\n"
       ]
      }
     ],
     "prompt_number": 5
    },
    {
     "cell_type": "code",
     "collapsed": false,
     "input": [],
     "language": "python",
     "metadata": {},
     "outputs": []
    }
   ],
   "metadata": {}
  }
 ]
}