{
 "metadata": {
  "name": "",
  "signature": "sha256:4a3ebe2d52d3d081d1c2e4d5bc889df241f670e1fe9b8fe446b4096114b3c28b"
 },
 "nbformat": 3,
 "nbformat_minor": 0,
 "worksheets": [
  {
   "cells": [
    {
     "cell_type": "code",
     "collapsed": false,
     "input": [
      "import pandas as pd\n",
      "import requests\n",
      "import Queue\n",
      "import time"
     ],
     "language": "python",
     "metadata": {},
     "outputs": [],
     "prompt_number": 9
    },
    {
     "cell_type": "code",
     "collapsed": false,
     "input": [
      "srcs = [\"shawnkathleen/flying-this-holiday-season-dont-be-one-of-these-iakw\"]"
     ],
     "language": "python",
     "metadata": {},
     "outputs": [],
     "prompt_number": 22
    },
    {
     "cell_type": "code",
     "collapsed": false,
     "input": [
      "def diff(a, b):\n",
      "    \"\"\"Return the different between two lists.\"\"\"\n",
      "    b = set(b)\n",
      "    return [c for c in a if c not in b]\n",
      "\n",
      "def parse_href(url_string):\n",
      "    \"\"\"Parse the URL from an HTML string containing one. If no URL, return False.\"\"\"\n",
      "    href_idx = url_string.find('href=\"')\n",
      "    \n",
      "    if href_idx <= 0:\n",
      "        return False\n",
      "    \n",
      "    partial_string = url_string[href_idx+7:]\n",
      "    return partial_string[0:partial_string.find('\"')]"
     ],
     "language": "python",
     "metadata": {},
     "outputs": [],
     "prompt_number": 8
    },
    {
     "cell_type": "code",
     "collapsed": false,
     "input": [
      "def is_gif_article(gif_article):\n",
      "    \"\"\"Return True if the article is a listicle containing GIFs, False otherwise.\"\"\"\n",
      "    \n",
      "    buzzfeed_article = requests.get(\"http://www.buzzfeed.com/\"+gif_article)\n",
      "    listicle_items = buzzfeed_article.content.split('class=\"buzz_superlist_item')\n",
      "    \n",
      "    for item in listicle_items[1:-1]:\n",
      "        # Check if item contains a GIF.\n",
      "        if item.find('.gif') > 0:\n",
      "            return True\n",
      "    return False\n"
     ],
     "language": "python",
     "metadata": {},
     "outputs": [],
     "prompt_number": 20
    },
    {
     "cell_type": "code",
     "collapsed": false,
     "input": [
      "def find_other_gif_articles(gif_article):\n",
      "    \"\"\"Search 'related articles' listed on input article for possible GIFs.\"\"\"\n",
      "    gif_articles = []\n",
      "    \n",
      "    buzzfeed_article = requests.get(\"http://www.buzzfeed.com/\"+gif_article)\n",
      "    related_strings = buzzfeed_article.content.split('rel:gt_act=\"related-link/name\"')\n",
      "\n",
      "    for related_string in related_strings[1:]:\n",
      "        href = parse_href(related_string)\n",
      "        if is_gif_article(href) > 0:\n",
      "            gif_articles.append(href)\n",
      "            \n",
      "    return gif_articles"
     ],
     "language": "python",
     "metadata": {},
     "outputs": [],
     "prompt_number": 15
    },
    {
     "cell_type": "code",
     "collapsed": false,
     "input": [
      "def crawl_for_gif_pages(source, limit=1000, delay=0.5):\n",
      "    \"\"\"Crawl Buzzfeed, starting at the source, collecting pages that contain GIFs.\"\"\"\n",
      "    found = []\n",
      "\n",
      "    sources = []\n",
      "    sources.append(source)\n",
      "\n",
      "    while (len(found)<limit and len(sources)>0):\n",
      "        source = sources.pop()\n",
      "\n",
      "        new_article_candidates = find_other_gif_articles(source)\n",
      "        new_articles = diff(new_article_candidates, found)\n",
      "\n",
      "        found.extend(new_articles)\n",
      "        sources.extend(new_articles)\n",
      "        \n",
      "        time.sleep(delay)\n",
      "    \n",
      "    return pd.Series(found)"
     ],
     "language": "python",
     "metadata": {},
     "outputs": [],
     "prompt_number": 16
    },
    {
     "cell_type": "code",
     "collapsed": false,
     "input": [
      "# A limited exemplary crawl.\n",
      "gif_pages = crawl_for_gif_pages(srcs[0], 10)\n",
      "gif_pages.head()"
     ],
     "language": "python",
     "metadata": {},
     "outputs": [
      {
       "metadata": {},
       "output_type": "pyout",
       "prompt_number": 21,
       "text": [
        "0    staceygrant91/18-hilarious-times-airplane-took...\n",
        "1    achio/17-reasons-youre-feeling-extra-single-th...\n",
        "2    staceygrant91/18-hilarious-times-airplane-took...\n",
        "3    achio/17-reasons-youre-feeling-extra-single-th...\n",
        "4    timelycloud/15-reasons-why-having-a-cat-is-bet...\n",
        "dtype: object"
       ]
      }
     ],
     "prompt_number": 21
    },
    {
     "cell_type": "code",
     "collapsed": false,
     "input": [],
     "language": "python",
     "metadata": {},
     "outputs": []
    }
   ],
   "metadata": {}
  }
 ]
}