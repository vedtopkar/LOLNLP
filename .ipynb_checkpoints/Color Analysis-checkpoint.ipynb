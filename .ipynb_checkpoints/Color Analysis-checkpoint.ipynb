{
 "metadata": {
  "name": "",
  "signature": "sha256:b4dba68ecc6a274c0d0fd773823e0b2d08acc36815457d5c8c0bebeb5dda7e6d"
 },
 "nbformat": 3,
 "nbformat_minor": 0,
 "worksheets": [
  {
   "cells": [
    {
     "cell_type": "code",
     "collapsed": false,
     "input": [
      "%matplotlib inline \n",
      "from IPython.display import HTML\n",
      "from __future__ import division\n",
      "from IPython.display import Image as PyImage\n",
      "from IPython.display import SVG\n",
      "from IPython import display\n",
      "import pandas as pd\n",
      "import numpy as np\n",
      "import math\n",
      "from PIL import Image\n",
      "import requests\n",
      "from StringIO import StringIO\n",
      "import matplotlib.pyplot as plt\n",
      "from sklearn.cluster import KMeans\n",
      "import seaborn"
     ],
     "language": "python",
     "metadata": {},
     "outputs": [],
     "prompt_number": 1
    },
    {
     "cell_type": "markdown",
     "metadata": {},
     "source": [
      "## Image Color Analysis\n",
      "\n",
      "One aspect of the GIFs that we had Sentiment Tagged that we were very intersted in analyzing was the colors of the GIFs. To this end, we pursued a number of analysis tasks, the first of which being color palette comparisons.\n",
      "\n",
      "The way this code works is that it takes a GIF URL, and then follows the following steps:\n",
      "\n",
      "1. Store the GIF in memory\n",
      "2. To spare compute time, shrink the GIF to a smaller thumbnail version (preserving color)\n",
      "3. Split each frame of the GIF into a separate image in-memory\n",
      "4. Merge the pixel values of all of the pixels in all of the frames to create a large array of all pixels\n",
      "5. Run KMeans to find the cluster centers of the aggregated pixels\n",
      "6. The centers of these clusters are the dominant colors in the colorscheme of the image"
     ]
    },
    {
     "cell_type": "code",
     "collapsed": false,
     "input": [
      "def colorscheme_from_url(url, n_colors=3):\n",
      "    \"\"\"\n",
      "    Given a url and a given number of colors to extract\n",
      "    Generate a colorscheme of n_colors colors\n",
      "    \"\"\"\n",
      "    \n",
      "    \n",
      "    \"\"\"\n",
      "    Get the GIF from the url and save it in memory\n",
      "    \"\"\"\n",
      "    response = requests.get(url)\n",
      "    img = Image.open(StringIO(response.content))\n",
      "    \n",
      "    \n",
      "    \"\"\"\n",
      "    Iterate through each frame and save it as a separate image (in memory)\n",
      "    \"\"\"\n",
      "    n = 0\n",
      "    frames = []\n",
      "    while img:\n",
      "        i = img.copy()\n",
      "        i.thumbnail((150,150))\n",
      "        frames.append(i)\n",
      "        n += 1\n",
      "        try:\n",
      "            img.seek(n)\n",
      "        except EOFError:\n",
      "            break\n",
      "    print 'Frames: ' + str(len(frames))\n",
      "    \n",
      "\n",
      "    \"\"\"\n",
      "    Get all pixels from all frames into a single 2D array\n",
      "    \"\"\"\n",
      "    all_pixels = np.array([[100,100,100]])\n",
      "    for frame in frames:\n",
      "        img = frame.convert('RGB')\n",
      "        all_pixels = np.vstack((np.asarray(img).reshape(-1, 3), all_pixels))\n",
      "\n",
      "    all_pixels = all_pixels[:all_pixels.shape[0] - 1]\n",
      "    \n",
      "    \n",
      "    \"\"\"\n",
      "    Run the pixels through KMeans clustering with n_colors clusters\n",
      "    The centers are the primary colors\n",
      "    \"\"\"\n",
      "    clt = KMeans(n_clusters=n_colors)\n",
      "    clt.fit(all_pixels)\n",
      "\n",
      "    primary_colors = [[int(x) for x in i] for i in clt.cluster_centers_]\n",
      "    return primary_colors\n",
      "\n",
      "\n",
      "def display_colorscheme(url, colors):\n",
      "    \"\"\"\n",
      "    For use in IPython Notebooks\n",
      "    Given a URL and a list of RGB colors\n",
      "    Output the GIF and the colorscheme in HTML\n",
      "    \"\"\"\n",
      "    \n",
      "    html = ''\n",
      "    for color in colors:\n",
      "        html += '<div style=\"background-color: rgb({0}); padding:20px;width:20px;display:inline-block;\"></div>'.format(','.join(str(int(c)) for c in color))\n",
      "    \n",
      "    display.display(PyImage(url=url))\n",
      "    display.display(HTML(html))"
     ],
     "language": "python",
     "metadata": {},
     "outputs": [],
     "prompt_number": 10
    },
    {
     "cell_type": "code",
     "collapsed": false,
     "input": [
      "url = 'http://media.giphy.com/media/bnfczfvZS6zni/giphy.gif'\n",
      "colors = colorscheme_from_url(url, n_colors=5)\n",
      "display_colorscheme(url, colors)"
     ],
     "language": "python",
     "metadata": {},
     "outputs": [
      {
       "output_type": "stream",
       "stream": "stdout",
       "text": [
        "Frames: 20\n"
       ]
      },
      {
       "html": [
        "<img src=\"http://media.giphy.com/media/bnfczfvZS6zni/giphy.gif\"/>"
       ],
       "metadata": {},
       "output_type": "display_data",
       "text": [
        "<IPython.core.display.Image at 0x10d448b10>"
       ]
      },
      {
       "html": [
        "<div style=\"background-color: rgb(62,89,49); padding:20px;width:20px;display:inline-block;\"></div><div style=\"background-color: rgb(103,187,248); padding:20px;width:20px;display:inline-block;\"></div><div style=\"background-color: rgb(216,221,231); padding:20px;width:20px;display:inline-block;\"></div><div style=\"background-color: rgb(39,174,246); padding:20px;width:20px;display:inline-block;\"></div><div style=\"background-color: rgb(109,144,110); padding:20px;width:20px;display:inline-block;\"></div>"
       ],
       "metadata": {},
       "output_type": "display_data",
       "text": [
        "<IPython.core.display.HTML at 0x10d448ad0>"
       ]
      }
     ],
     "prompt_number": 11
    },
    {
     "cell_type": "code",
     "collapsed": false,
     "input": [
      "url = 'http://media.giphy.com/media/6F5rSKknrwPXq/giphy.gif'\n",
      "colors = colorscheme_from_url(url, n_colors=5)\n",
      "display_colorscheme(url, colors)"
     ],
     "language": "python",
     "metadata": {},
     "outputs": [
      {
       "output_type": "stream",
       "stream": "stdout",
       "text": [
        "Frames: 20\n"
       ]
      },
      {
       "html": [
        "<img src=\"http://media.giphy.com/media/6F5rSKknrwPXq/giphy.gif\"/>"
       ],
       "metadata": {},
       "output_type": "display_data",
       "text": [
        "<IPython.core.display.Image at 0x1065e6590>"
       ]
      },
      {
       "html": [
        "<div style=\"background-color: rgb(32,27,53); padding:20px;width:20px;display:inline-block;\"></div><div style=\"background-color: rgb(242,244,241); padding:20px;width:20px;display:inline-block;\"></div><div style=\"background-color: rgb(21,198,233); padding:20px;width:20px;display:inline-block;\"></div><div style=\"background-color: rgb(32,90,167); padding:20px;width:20px;display:inline-block;\"></div><div style=\"background-color: rgb(227,185,30); padding:20px;width:20px;display:inline-block;\"></div>"
       ],
       "metadata": {},
       "output_type": "display_data",
       "text": [
        "<IPython.core.display.HTML at 0x1080d9910>"
       ]
      }
     ],
     "prompt_number": 4
    },
    {
     "cell_type": "code",
     "collapsed": false,
     "input": [
      "url = 'http://media.giphy.com/media/iS6w9L0bYq1Ne/giphy.gif'\n",
      "colors = colorscheme_from_url(url, n_colors=5)\n",
      "display_colorscheme(url, colors)"
     ],
     "language": "python",
     "metadata": {},
     "outputs": [
      {
       "output_type": "stream",
       "stream": "stdout",
       "text": [
        "Frames: 16\n"
       ]
      },
      {
       "html": [
        "<img src=\"http://media.giphy.com/media/iS6w9L0bYq1Ne/giphy.gif\"/>"
       ],
       "metadata": {},
       "output_type": "display_data",
       "text": [
        "<IPython.core.display.Image at 0x10eec2990>"
       ]
      },
      {
       "html": [
        "<div style=\"background-color: rgb(62,203,222); padding:20px;width:20px;display:inline-block;\"></div><div style=\"background-color: rgb(238,178,42); padding:20px;width:20px;display:inline-block;\"></div><div style=\"background-color: rgb(34,87,91); padding:20px;width:20px;display:inline-block;\"></div><div style=\"background-color: rgb(208,239,215); padding:20px;width:20px;display:inline-block;\"></div><div style=\"background-color: rgb(218,68,18); padding:20px;width:20px;display:inline-block;\"></div>"
       ],
       "metadata": {},
       "output_type": "display_data",
       "text": [
        "<IPython.core.display.HTML at 0x1065e6490>"
       ]
      }
     ],
     "prompt_number": 12
    },
    {
     "cell_type": "code",
     "collapsed": false,
     "input": [
      "categorized_gifs = pd.read_csv('data/categorized_gifs_with_colors.csv')\n",
      "categorized_gifs.head()"
     ],
     "language": "python",
     "metadata": {},
     "outputs": [
      {
       "html": [
        "<div style=\"max-height:1000px;max-width:1500px;overflow:auto;\">\n",
        "<table border=\"1\" class=\"dataframe\">\n",
        "  <thead>\n",
        "    <tr style=\"text-align: right;\">\n",
        "      <th></th>\n",
        "      <th>Unnamed: 0</th>\n",
        "      <th>Unnamed: 0.1</th>\n",
        "      <th>id</th>\n",
        "      <th>gif_id</th>\n",
        "      <th>x</th>\n",
        "      <th>y</th>\n",
        "      <th>url</th>\n",
        "      <th>strength</th>\n",
        "      <th>emotion</th>\n",
        "      <th>colors</th>\n",
        "    </tr>\n",
        "  </thead>\n",
        "  <tbody>\n",
        "    <tr>\n",
        "      <th>0</th>\n",
        "      <td> 0</td>\n",
        "      <td> 0</td>\n",
        "      <td> 110</td>\n",
        "      <td> 4057</td>\n",
        "      <td>-0.124000</td>\n",
        "      <td>-0.394737</td>\n",
        "      <td> http://s3-ec.buzzfed.com/static/enhanced/webdr...</td>\n",
        "      <td> 0.413755</td>\n",
        "      <td>    bored</td>\n",
        "      <td> [[234, 232, 238], [111, 111, 117], [40, 37, 36...</td>\n",
        "    </tr>\n",
        "    <tr>\n",
        "      <th>1</th>\n",
        "      <td> 1</td>\n",
        "      <td> 1</td>\n",
        "      <td> 109</td>\n",
        "      <td> 6246</td>\n",
        "      <td> 0.348000</td>\n",
        "      <td>-0.218045</td>\n",
        "      <td> http://s3-ec.buzzfed.com/static/enhanced/webdr...</td>\n",
        "      <td> 0.410667</td>\n",
        "      <td>   serene</td>\n",
        "      <td> [[203, 62, 50], [90, 144, 152], [248, 198, 97]...</td>\n",
        "    </tr>\n",
        "    <tr>\n",
        "      <th>2</th>\n",
        "      <td> 2</td>\n",
        "      <td> 2</td>\n",
        "      <td> 114</td>\n",
        "      <td> 7702</td>\n",
        "      <td> 0.390667</td>\n",
        "      <td>-0.033835</td>\n",
        "      <td> http://s3-ec.buzzfed.com/static/2014-01/enhanc...</td>\n",
        "      <td> 0.392129</td>\n",
        "      <td> pleasant</td>\n",
        "      <td> [[252, 247, 217], [192, 4, 2], [248, 51, 18], ...</td>\n",
        "    </tr>\n",
        "    <tr>\n",
        "      <th>3</th>\n",
        "      <td> 3</td>\n",
        "      <td> 3</td>\n",
        "      <td> 113</td>\n",
        "      <td> 6925</td>\n",
        "      <td> 0.053333</td>\n",
        "      <td>-0.097744</td>\n",
        "      <td> http://s3-ec.buzzfed.com/static/enhanced/webdr...</td>\n",
        "      <td> 0.111348</td>\n",
        "      <td>  relaxed</td>\n",
        "      <td> [[66, 60, 55], [162, 167, 137], [79, 87, 88], ...</td>\n",
        "    </tr>\n",
        "    <tr>\n",
        "      <th>4</th>\n",
        "      <td> 4</td>\n",
        "      <td> 4</td>\n",
        "      <td> 112</td>\n",
        "      <td> 1355</td>\n",
        "      <td>-0.354667</td>\n",
        "      <td>-0.154135</td>\n",
        "      <td> http://s3-ec.buzzfed.com/static/2014-10/20/16/...</td>\n",
        "      <td> 0.386712</td>\n",
        "      <td>      sad</td>\n",
        "      <td> [[184, 112, 21], [255, 255, 255], [86, 44, 14]...</td>\n",
        "    </tr>\n",
        "  </tbody>\n",
        "</table>\n",
        "</div>"
       ],
       "metadata": {},
       "output_type": "pyout",
       "prompt_number": 14,
       "text": [
        "   Unnamed: 0  Unnamed: 0.1   id  gif_id         x         y  \\\n",
        "0           0             0  110    4057 -0.124000 -0.394737   \n",
        "1           1             1  109    6246  0.348000 -0.218045   \n",
        "2           2             2  114    7702  0.390667 -0.033835   \n",
        "3           3             3  113    6925  0.053333 -0.097744   \n",
        "4           4             4  112    1355 -0.354667 -0.154135   \n",
        "\n",
        "                                                 url  strength   emotion  \\\n",
        "0  http://s3-ec.buzzfed.com/static/enhanced/webdr...  0.413755     bored   \n",
        "1  http://s3-ec.buzzfed.com/static/enhanced/webdr...  0.410667    serene   \n",
        "2  http://s3-ec.buzzfed.com/static/2014-01/enhanc...  0.392129  pleasant   \n",
        "3  http://s3-ec.buzzfed.com/static/enhanced/webdr...  0.111348   relaxed   \n",
        "4  http://s3-ec.buzzfed.com/static/2014-10/20/16/...  0.386712       sad   \n",
        "\n",
        "                                              colors  \n",
        "0  [[234, 232, 238], [111, 111, 117], [40, 37, 36...  \n",
        "1  [[203, 62, 50], [90, 144, 152], [248, 198, 97]...  \n",
        "2  [[252, 247, 217], [192, 4, 2], [248, 51, 18], ...  \n",
        "3  [[66, 60, 55], [162, 167, 137], [79, 87, 88], ...  \n",
        "4  [[184, 112, 21], [255, 255, 255], [86, 44, 14]...  "
       ]
      }
     ],
     "prompt_number": 14
    },
    {
     "cell_type": "code",
     "collapsed": false,
     "input": [
      "t = categorized_gifs['colors'][0]\n",
      "t = t.replace('[', '').replace(']', '').replace(' ', '').split(',')\n",
      "t = [int(x) for x in t]\n",
      "np.array(t).reshape([-1, 3])"
     ],
     "language": "python",
     "metadata": {},
     "outputs": [
      {
       "metadata": {},
       "output_type": "pyout",
       "prompt_number": 26,
       "text": [
        "array([[234, 232, 238],\n",
        "       [111, 111, 117],\n",
        "       [ 40,  37,  36],\n",
        "       [204,  51,  50],\n",
        "       [189, 162, 156]])"
       ]
      }
     ],
     "prompt_number": 26
    },
    {
     "cell_type": "code",
     "collapsed": false,
     "input": [
      "urls = categorized_gifs['url']\n",
      "colors = []\n",
      "for i,url in enumerate(urls):\n",
      "    c = colorscheme_from_url(url, n_colors=5)\n",
      "    print i, c\n",
      "    colors.append(c)"
     ],
     "language": "python",
     "metadata": {},
     "outputs": [],
     "prompt_number": 7
    },
    {
     "cell_type": "code",
     "collapsed": false,
     "input": [
      "def compute_luminance(rgb):\n",
      "    return math.sqrt( 0.241*rgb[0]**2 + 0.691*rgb[1]**2 + 0.068*rgb[2]**2 )"
     ],
     "language": "python",
     "metadata": {},
     "outputs": [],
     "prompt_number": 8
    },
    {
     "cell_type": "code",
     "collapsed": false,
     "input": [
      "def str_to_list(text):\n",
      "    t = text.replace('[', '').replace(']', '').replace(' ', '').split(',')\n",
      "    t = np.array([int(x) for x in t]).reshape([-1, 3])\n",
      "    return t\n",
      "\n",
      "colors = []\n",
      "for i in categorized_gifs['colors']:\n",
      "    colors.append(str_to_list(i))"
     ],
     "language": "python",
     "metadata": {},
     "outputs": [],
     "prompt_number": 27
    },
    {
     "cell_type": "code",
     "collapsed": false,
     "input": [
      "colors[2]"
     ],
     "language": "python",
     "metadata": {},
     "outputs": [
      {
       "metadata": {},
       "output_type": "pyout",
       "prompt_number": 28,
       "text": [
        "array([[252, 247, 217],\n",
        "       [192,   4,   2],\n",
        "       [248,  51,  18],\n",
        "       [254, 254, 251],\n",
        "       [253, 172, 120]])"
       ]
      }
     ],
     "prompt_number": 28
    },
    {
     "cell_type": "code",
     "collapsed": false,
     "input": [
      "average_middle_luminances = []\n",
      "for color in colors:\n",
      "    x = np.array([x[1] for x in color])\n",
      "    x = np.sort(x)\n",
      "    average_middle_luminances.append(np.median(x))"
     ],
     "language": "python",
     "metadata": {},
     "outputs": [],
     "prompt_number": 108
    },
    {
     "cell_type": "code",
     "collapsed": false,
     "input": [
      "categorized_gifs['All Colors'] = colors\n",
      "categorized_gifs['Average Luminance'] = average_middle_luminances"
     ],
     "language": "python",
     "metadata": {},
     "outputs": [],
     "prompt_number": 109
    },
    {
     "cell_type": "code",
     "collapsed": false,
     "input": [
      "emotion_strengths = []\n",
      "emotions = categorized_gifs['emotion'].unique()\n",
      "for emotion in emotions:\n",
      "    strengths = np.asarray(categorized_gifs[categorized_gifs['emotion']==emotion]['Average Luminance'])\n",
      "    emotion_strengths.append(strengths)\n",
      "g = seaborn.boxplot(emotion_strengths, names=emotions)\n",
      "g.set_xticklabels(emotions,rotation='vertical')"
     ],
     "language": "python",
     "metadata": {},
     "outputs": [
      {
       "metadata": {},
       "output_type": "pyout",
       "prompt_number": 110,
       "text": [
        "[<matplotlib.text.Text at 0x11440c110>,\n",
        " <matplotlib.text.Text at 0x11490b750>,\n",
        " <matplotlib.text.Text at 0x11501afd0>,\n",
        " <matplotlib.text.Text at 0x115025790>,\n",
        " <matplotlib.text.Text at 0x115025f10>,\n",
        " <matplotlib.text.Text at 0x11502f6d0>,\n",
        " <matplotlib.text.Text at 0x11502fe50>,\n",
        " <matplotlib.text.Text at 0x11503a610>,\n",
        " <matplotlib.text.Text at 0x11503ad90>,\n",
        " <matplotlib.text.Text at 0x115044550>,\n",
        " <matplotlib.text.Text at 0x115044cd0>,\n",
        " <matplotlib.text.Text at 0x11504d490>,\n",
        " <matplotlib.text.Text at 0x11504dc10>,\n",
        " <matplotlib.text.Text at 0x1150583d0>,\n",
        " <matplotlib.text.Text at 0x115058b50>,\n",
        " <matplotlib.text.Text at 0x115061310>,\n",
        " <matplotlib.text.Text at 0x115061a90>,\n",
        " <matplotlib.text.Text at 0x11506a250>,\n",
        " <matplotlib.text.Text at 0x11506a9d0>,\n",
        " <matplotlib.text.Text at 0x115075190>]"
       ]
      },
      {
       "metadata": {},
       "output_type": "display_data",
       "png": "[encoded data removed]",
       "text": [
        "<matplotlib.figure.Figure at 0x1058f5290>"
       ]
      }
     ],
     "prompt_number": 110
    },
    {
     "cell_type": "code",
     "collapsed": false,
     "input": [
      "def average_luminance_from_url():\n",
      "    \"\"\"\n",
      "    Given a url and a given number of colors to extract\n",
      "    Generate a colorscheme of n_colors colors\n",
      "    \"\"\"\n",
      "    \n",
      "    \n",
      "    \"\"\"\n",
      "    Get the GIF from the url and save it in memory\n",
      "    \"\"\"\n",
      "    response = requests.get(url)\n",
      "    img = Image.open(StringIO(response.content))\n",
      "    \n",
      "    \n",
      "    \"\"\"\n",
      "    Iterate through each frame and save it as a separate image (in memory)\n",
      "    \"\"\"\n",
      "    n = 0\n",
      "    frames = []\n",
      "    while img:\n",
      "        i = img.copy()\n",
      "        i.thumbnail((50,50))\n",
      "        frames.append(i)\n",
      "        n += 2\n",
      "        try:\n",
      "            img.seek(n)\n",
      "        except EOFError:\n",
      "            break\n",
      "    print 'Frames: ' + str(len(frames))\n",
      "    \n",
      "\n",
      "    \"\"\"\n",
      "    Get all pixels from all frames into a single 2D array\n",
      "    \"\"\"\n",
      "    all_pixels = np.array([[100,100,100]])\n",
      "    for frame in frames:\n",
      "        img = frame.convert('RGB')\n",
      "        all_pixels = np.vstack((np.asarray(img).reshape(-1, 3), all_pixels))\n",
      "\n",
      "    all_pixels = all_pixels[:all_pixels.shape[0] - 1]"
     ],
     "language": "python",
     "metadata": {},
     "outputs": [],
     "prompt_number": 107
    },
    {
     "cell_type": "code",
     "collapsed": false,
     "input": [],
     "language": "python",
     "metadata": {},
     "outputs": [],
     "prompt_number": 107
    },
    {
     "cell_type": "code",
     "collapsed": false,
     "input": [],
     "language": "python",
     "metadata": {},
     "outputs": []
    }
   ],
   "metadata": {}
  }
 ]
}