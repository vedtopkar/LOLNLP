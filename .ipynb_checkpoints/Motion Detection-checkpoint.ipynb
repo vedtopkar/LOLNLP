{
 "metadata": {
  "name": "",
  "signature": "sha256:cc3fe72422daf0ffcc3792f610fbb47c911c3277711bfe2a2dcb1323d5573e58"
 },
 "nbformat": 3,
 "nbformat_minor": 0,
 "worksheets": [
  {
   "cells": [
    {
     "cell_type": "code",
     "collapsed": false,
     "input": [
      "import matplotlib as plt\n",
      "import numpy as np\n",
      "import pandas as pd\n",
      "import urllib, cStringIO\n",
      "\n",
      "from PIL import Image\n",
      "from PIL import ImageChops\n",
      "from scipy.stats import zscore\n",
      "\n",
      "%matplotlib inline"
     ],
     "language": "python",
     "metadata": {},
     "outputs": [],
     "prompt_number": 2
    },
    {
     "cell_type": "code",
     "collapsed": false,
     "input": [
      "def image_intensity(img):\n",
      "\n",
      "    hist = img.histogram()\n",
      "    hist = np.array(hist)\n",
      "\n",
      "    intensity = 0\n",
      "\n",
      "    for i, p in enumerate(hist):\n",
      "        intensity += np.log(i+1)*p\n",
      "\n",
      "    return intensity"
     ],
     "language": "python",
     "metadata": {},
     "outputs": [],
     "prompt_number": 2
    },
    {
     "cell_type": "code",
     "collapsed": false,
     "input": [
      "def motion_detection(gif_link):\n",
      "\n",
      "    file = cStringIO.StringIO(urllib.urlopen(gif_link).read())\n",
      "    gif = Image.open(file)\n",
      "\n",
      "    frame = 0\n",
      "    motion = 0\n",
      "    current_frame = gif.copy().convert('LA')\n",
      "\n",
      "    while True: \n",
      "        try:\n",
      "            previous_frame = current_frame\n",
      "\n",
      "            gif.seek(frame+1)\n",
      "            current_frame = gif.copy().convert('LA')\n",
      "\n",
      "            motion += image_intensity(ImageChops.difference(previous_frame, current_frame))\n",
      "\n",
      "        except EOFError:\n",
      "            break\n",
      "\n",
      "        frame += 1\n",
      "    if frame > 0:\n",
      "        return motion/(1.0*frame)\n",
      "    return 0"
     ],
     "language": "python",
     "metadata": {},
     "outputs": [],
     "prompt_number": 12
    },
    {
     "cell_type": "code",
     "collapsed": false,
     "input": [
      "buzzfeed_pd = pd.read_csv(\"data/buzzfeed_gifs_master.csv\")\n",
      "links = buzzfeed_pd['URL']\n",
      "\n",
      "# buzzfeed_pd['motion'] = links.apply(motion_detection)\n",
      "\n",
      "motion_detection_pd = pd.read_csv(\"data/motion_detection.csv\", names=['URL', 'motion'], header=0)\n",
      "\n",
      "master = pd.merge(buzzfeed_pd, motion_detection_pd)\n",
      "master['motion'] = zscore(master['motion'])"
     ],
     "language": "python",
     "metadata": {},
     "outputs": [
      {
       "metadata": {},
       "output_type": "pyout",
       "prompt_number": 5,
       "text": [
        "<matplotlib.axes.AxesSubplot at 0x109379ad0>"
       ]
      },
      {
       "metadata": {},
       "output_type": "display_data",
       "png": "[encoded data removed]",
       "text": [
        "<matplotlib.figure.Figure at 0x109379fd0>"
       ]
      }
     ],
     "prompt_number": 5
    },
    {
     "cell_type": "code",
     "collapsed": false,
     "input": [],
     "language": "python",
     "metadata": {},
     "outputs": [],
     "prompt_number": 15
    },
    {
     "cell_type": "code",
     "collapsed": false,
     "input": [],
     "language": "python",
     "metadata": {},
     "outputs": []
    }
   ],
   "metadata": {}
  }
 ]
}