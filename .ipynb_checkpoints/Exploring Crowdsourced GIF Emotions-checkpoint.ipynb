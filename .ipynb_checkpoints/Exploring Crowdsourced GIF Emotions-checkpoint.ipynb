{
 "metadata": {
  "name": "",
  "signature": "sha256:5b477fea108c953b15b8759705f90317849b81c0db141e9b8c83c3d577c4f89d"
 },
 "nbformat": 3,
 "nbformat_minor": 0,
 "worksheets": [
  {
   "cells": [
    {
     "cell_type": "markdown",
     "metadata": {},
     "source": [
      "# Crowdsourced GIF Emotions\n",
      "\n",
      "In order to associate GIFs that we scraped from BuzzFeed with emotions, we created an online crowdsourcing platform that displayed a \n",
      "\n",
      "INSERT SCREENSHOT HERE."
     ]
    },
    {
     "cell_type": "code",
     "collapsed": false,
     "input": [
      "from __future__ import division\n",
      "from IPython.display import Image as PyImage\n",
      "import pandas as pd\n",
      "import numpy as np\n",
      "import math\n",
      "from PIL import Image\n",
      "import requests\n",
      "from StringIO import StringIO"
     ],
     "language": "python",
     "metadata": {},
     "outputs": [],
     "prompt_number": 41
    },
    {
     "cell_type": "code",
     "collapsed": false,
     "input": [
      "PyImage(url='http://s3-ec.buzzfed.com/static/2014-05/enhanced/webdr05/23/2/anigif_enhanced-740-1400825298-3.gif')"
     ],
     "language": "python",
     "metadata": {},
     "outputs": [
      {
       "html": [
        "<img src=\"http://s3-ec.buzzfed.com/static/2014-05/enhanced/webdr05/23/2/anigif_enhanced-740-1400825298-3.gif\"/>"
       ],
       "metadata": {},
       "output_type": "pyout",
       "prompt_number": 42,
       "text": [
        "<IPython.core.display.Image at 0x1096a8d10>"
       ]
      }
     ],
     "prompt_number": 42
    },
    {
     "cell_type": "code",
     "collapsed": false,
     "input": [
      "GIFs = pd.read_csv('data/crowdsourced_gif_emotions/gifs.csv', names=['id', 'gif_id', 'x', 'y'])\n",
      "links = pd.read_csv('data/crowdsourced_gif_emotions/links.csv', names=['gif_id', 'url'])\n",
      "\n",
      "data = GIFs.merge(links)\n",
      "data.head()"
     ],
     "language": "python",
     "metadata": {},
     "outputs": [
      {
       "html": [
        "<div style=\"max-height:1000px;max-width:1500px;overflow:auto;\">\n",
        "<table border=\"1\" class=\"dataframe\">\n",
        "  <thead>\n",
        "    <tr style=\"text-align: right;\">\n",
        "      <th></th>\n",
        "      <th>id</th>\n",
        "      <th>gif_id</th>\n",
        "      <th>x</th>\n",
        "      <th>y</th>\n",
        "      <th>url</th>\n",
        "    </tr>\n",
        "  </thead>\n",
        "  <tbody>\n",
        "    <tr>\n",
        "      <th>0</th>\n",
        "      <td> 110</td>\n",
        "      <td> 4057</td>\n",
        "      <td> 0.376000</td>\n",
        "      <td> 0.105263</td>\n",
        "      <td> http://s3-ec.buzzfed.com/static/enhanced/webdr...</td>\n",
        "    </tr>\n",
        "    <tr>\n",
        "      <th>1</th>\n",
        "      <td> 109</td>\n",
        "      <td> 6246</td>\n",
        "      <td> 0.848000</td>\n",
        "      <td> 0.281955</td>\n",
        "      <td> http://s3-ec.buzzfed.com/static/enhanced/webdr...</td>\n",
        "    </tr>\n",
        "    <tr>\n",
        "      <th>2</th>\n",
        "      <td> 114</td>\n",
        "      <td> 7702</td>\n",
        "      <td> 0.890667</td>\n",
        "      <td> 0.466165</td>\n",
        "      <td> http://s3-ec.buzzfed.com/static/2014-01/enhanc...</td>\n",
        "    </tr>\n",
        "    <tr>\n",
        "      <th>3</th>\n",
        "      <td> 113</td>\n",
        "      <td> 6925</td>\n",
        "      <td> 0.553333</td>\n",
        "      <td> 0.402256</td>\n",
        "      <td> http://s3-ec.buzzfed.com/static/enhanced/webdr...</td>\n",
        "    </tr>\n",
        "    <tr>\n",
        "      <th>4</th>\n",
        "      <td> 112</td>\n",
        "      <td> 1355</td>\n",
        "      <td> 0.145333</td>\n",
        "      <td> 0.345865</td>\n",
        "      <td> http://s3-ec.buzzfed.com/static/2014-10/20/16/...</td>\n",
        "    </tr>\n",
        "  </tbody>\n",
        "</table>\n",
        "</div>"
       ],
       "metadata": {},
       "output_type": "pyout",
       "prompt_number": 16,
       "text": [
        "    id  gif_id         x         y  \\\n",
        "0  110    4057  0.376000  0.105263   \n",
        "1  109    6246  0.848000  0.281955   \n",
        "2  114    7702  0.890667  0.466165   \n",
        "3  113    6925  0.553333  0.402256   \n",
        "4  112    1355  0.145333  0.345865   \n",
        "\n",
        "                                                 url  \n",
        "0  http://s3-ec.buzzfed.com/static/enhanced/webdr...  \n",
        "1  http://s3-ec.buzzfed.com/static/enhanced/webdr...  \n",
        "2  http://s3-ec.buzzfed.com/static/2014-01/enhanc...  \n",
        "3  http://s3-ec.buzzfed.com/static/enhanced/webdr...  \n",
        "4  http://s3-ec.buzzfed.com/static/2014-10/20/16/...  "
       ]
      }
     ],
     "prompt_number": 16
    },
    {
     "cell_type": "code",
     "collapsed": false,
     "input": [
      "def get_closest_emotion(x,y):\n",
      "    length = math.hypot(x,y)\n",
      "    angle = math.atan(y/x)\n",
      "    \n",
      "    emotions = ['pleasant', 'happy', 'elated', 'excited',\n",
      "                'alert', 'active', 'tense', 'nervous', 'stressed',\n",
      "                'upset', 'unpleasant', 'sad', 'unhappy', 'depressed',\n",
      "                'bored', 'subdued', 'calm', 'relaxed', 'serene', 'contented']\n",
      "    \n",
      "    "
     ],
     "language": "python",
     "metadata": {},
     "outputs": [],
     "prompt_number": 24
    },
    {
     "cell_type": "code",
     "collapsed": false,
     "input": [
      "\"\"\"\n",
      "Given \n",
      "\"\"\"\n",
      "URL = 'http://s3-ec.buzzfed.com/static/2013-10/enhanced/webdr01/7/1/anigif_enhanced-buzz-19143-1381123775-0.gif'\n",
      "\n",
      "\n",
      "response = requests.get(URL)\n",
      "img = Image.open(StringIO(response.content))\n",
      "\n",
      "def extract_frames(GIF):\n",
      "    n = 0\n",
      "    frames = []\n",
      "    while frame:\n",
      "        frame.save"
     ],
     "language": "python",
     "metadata": {},
     "outputs": [
      {
       "output_type": "stream",
       "stream": "stdout",
       "text": [
        "(500, 281)\n",
        "(200, 112)\n"
       ]
      }
     ],
     "prompt_number": 38
    },
    {
     "cell_type": "code",
     "collapsed": false,
     "input": [],
     "language": "python",
     "metadata": {},
     "outputs": []
    }
   ],
   "metadata": {}
  }
 ]
}