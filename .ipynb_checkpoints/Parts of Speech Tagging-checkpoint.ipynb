{
 "metadata": {
  "name": "",
  "signature": "sha256:64b75723e35a1eb9340d6f0c80e7c9850a2e110d039f62447ee0768a87a76b07"
 },
 "nbformat": 3,
 "nbformat_minor": 0,
 "worksheets": []
}