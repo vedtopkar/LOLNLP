{
 "metadata": {
  "name": "",
  "signature": "sha256:d5a8b048eef78d020e4b95305970e06a2240718bf2cc64361a61916f3025d673"
 },
 "nbformat": 3,
 "nbformat_minor": 0,
 "worksheets": [
  {
   "cells": [
    {
     "cell_type": "code",
     "collapsed": false,
     "input": [
      "%matplotlib inline \n",
      "from IPython.display import HTML\n",
      "from __future__ import division\n",
      "from IPython.display import Image as PyImage\n",
      "from IPython.display import SVG\n",
      "from IPython import display\n",
      "import pandas as pd\n",
      "import numpy as np\n",
      "import math\n",
      "from PIL import Image\n",
      "import requests\n",
      "from StringIO import StringIO\n",
      "import matplotlib.pyplot as plt\n",
      "from sklearn.cluster import KMeans"
     ],
     "language": "python",
     "metadata": {},
     "outputs": [],
     "prompt_number": 227
    },
    {
     "cell_type": "code",
     "collapsed": false,
     "input": [],
     "language": "python",
     "metadata": {},
     "outputs": [
      {
       "html": [
        "<img src=\"http://media.giphy.com/media/ihFuDggfI2wnu/giphy.gif\"/>"
       ],
       "metadata": {},
       "output_type": "pyout",
       "prompt_number": 203,
       "text": [
        "<IPython.core.display.Image at 0x10fd6f150>"
       ]
      }
     ],
     "prompt_number": 203
    },
    {
     "cell_type": "code",
     "collapsed": false,
     "input": [
      "def colorscheme_from_url(url, n_colors=3):\n",
      "    response = requests.get(url)\n",
      "    img = Image.open(StringIO(response.content))\n",
      "    \n",
      "    \"\"\"\n",
      "    Iterate through each frame and save it as a separate image (in memory)\n",
      "    \"\"\"\n",
      "    n = 0\n",
      "    frames = []\n",
      "    while img:\n",
      "        i = img.copy()\n",
      "        i.thumbnail((150,150))\n",
      "        frames.append(i)\n",
      "        n += 1\n",
      "        try:\n",
      "            img.seek(n)\n",
      "        except EOFError:\n",
      "            break\n",
      "    print 'Frames: ' + str(len(frames))\n",
      "\n",
      "    \"\"\"\n",
      "    Get all pixels from all frames into a single 2D array\n",
      "    \"\"\"\n",
      "    all_pixels = np.array([[100,100,100]])\n",
      "    for frame in frames:\n",
      "        img = frame.convert('RGB')\n",
      "        all_pixels = np.vstack((np.asarray(img).reshape(-1, 3), all_pixels))\n",
      "\n",
      "    all_pixels = all_pixels[:all_pixels.shape[0] - 1]\n",
      "    \n",
      "    \n",
      "    \"\"\"\n",
      "    Run the pixels through KMeans clustering with n_colors clusters\n",
      "    The centers are the primary colors\n",
      "    \"\"\"\n",
      "    clt = KMeans(n_clusters=n_colors)\n",
      "    clt.fit(all_pixels)\n",
      "\n",
      "    primary_colors = [[int(x) for x in i] for i in clt.cluster_centers_]\n",
      "    return primary_colors\n",
      "\n",
      "def display_colorscheme(url, colors):\n",
      "    html = ''\n",
      "    for color in colors:\n",
      "        html += '<div style=\"background-color: rgb({0}); padding:20px;width:20px;display:inline-block;\"></div>'.format(','.join(str(int(c)) for c in color))\n",
      "    \n",
      "    display.display(PyImage(url=url))\n",
      "    display.display(HTML(html))"
     ],
     "language": "python",
     "metadata": {},
     "outputs": [],
     "prompt_number": 246
    },
    {
     "cell_type": "code",
     "collapsed": false,
     "input": [
      "url = 'http://media.giphy.com/media/bnfczfvZS6zni/giphy.gif'\n",
      "colors = colorscheme_from_url(url, n_colors=4)\n",
      "display_colorscheme(url, colors)"
     ],
     "language": "python",
     "metadata": {},
     "outputs": [
      {
       "output_type": "stream",
       "stream": "stdout",
       "text": [
        "Frames: 20\n"
       ]
      },
      {
       "html": [
        "<img src=\"http://media.giphy.com/media/bnfczfvZS6zni/giphy.gif\"/>"
       ],
       "metadata": {},
       "output_type": "display_data",
       "text": [
        "<IPython.core.display.Image at 0x10fd72e50>"
       ]
      },
      {
       "html": [
        "<div style=\"background-color: rgb(200,215,235); padding:20px;width:20px;display:inline-block;\"></div><div style=\"background-color: rgb(62,89,49); padding:20px;width:20px;display:inline-block;\"></div><div style=\"background-color: rgb(57,178,246); padding:20px;width:20px;display:inline-block;\"></div><div style=\"background-color: rgb(109,144,110); padding:20px;width:20px;display:inline-block;\"></div>"
       ],
       "metadata": {},
       "output_type": "display_data",
       "text": [
        "<IPython.core.display.HTML at 0x10fd72710>"
       ]
      }
     ],
     "prompt_number": 250
    },
    {
     "cell_type": "code",
     "collapsed": false,
     "input": [],
     "language": "python",
     "metadata": {},
     "outputs": [],
     "prompt_number": 249
    },
    {
     "cell_type": "code",
     "collapsed": false,
     "input": [],
     "language": "python",
     "metadata": {},
     "outputs": []
    }
   ],
   "metadata": {}
  }
 ]
}