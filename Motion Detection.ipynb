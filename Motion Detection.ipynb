{
 "metadata": {
  "name": "",
  "signature": "sha256:c2a5fd7fa85522a6f203f4b13a71a0304973003cca32f4c73c8d121facf8d5b0"
 },
 "nbformat": 3,
 "nbformat_minor": 0,
 "worksheets": [
  {
   "cells": [
    {
     "cell_type": "code",
     "collapsed": false,
     "input": [
      "import matplotlib as plt\n",
      "import numpy as np\n",
      "import pandas as pd\n",
      "import urllib, cStringIO\n",
      "\n",
      "from PIL import Image\n",
      "from PIL import ImageChops\n",
      "from scipy.stats import zscore\n",
      "\n",
      "%matplotlib inline"
     ],
     "language": "python",
     "metadata": {},
     "outputs": [],
     "prompt_number": 2
    },
    {
     "cell_type": "code",
     "collapsed": false,
     "input": [
      "def image_intensity(img):\n",
      "\n",
      "    hist = img.histogram()\n",
      "    hist = np.array(hist)\n",
      "\n",
      "    intensity = 0\n",
      "\n",
      "    for i, p in enumerate(hist):\n",
      "        intensity += np.log(i+1)*p\n",
      "\n",
      "    return intensity"
     ],
     "language": "python",
     "metadata": {},
     "outputs": [],
     "prompt_number": 2
    },
    {
     "cell_type": "code",
     "collapsed": false,
     "input": [
      "def motion_detection(gif_link):\n",
      "\n",
      "    file = cStringIO.StringIO(urllib.urlopen(gif_link).read())\n",
      "    gif = Image.open(file)\n",
      "\n",
      "    frame = 0\n",
      "    motion = 0\n",
      "    current_frame = gif.copy().convert('LA')\n",
      "\n",
      "    while True: \n",
      "        try:\n",
      "            previous_frame = current_frame\n",
      "\n",
      "            gif.seek(frame+1)\n",
      "            current_frame = gif.copy().convert('LA')\n",
      "\n",
      "            motion += image_intensity(ImageChops.difference(previous_frame, current_frame))\n",
      "\n",
      "        except EOFError:\n",
      "            break\n",
      "\n",
      "        frame += 1\n",
      "    if frame > 0:\n",
      "        return motion/(1.0*frame)\n",
      "    return 0"
     ],
     "language": "python",
     "metadata": {},
     "outputs": [],
     "prompt_number": 12
    },
    {
     "cell_type": "code",
     "collapsed": false,
     "input": [
      "buzzfeed_pd = pd.read_csv(\"data/buzzfeed_gifs_master.csv\")\n",
      "links = buzzfeed_pd['URL']\n",
      "\n",
      "# buzzfeed_pd['motion'] = links.apply(motion_detection)\n",
      "\n",
      "motion_detection_pd = pd.read_csv(\"data/motion_detection.csv\", names=['URL', 'motion'], header=0)\n",
      "\n",
      "master = pd.merge(buzzfeed_pd, motion_detection_pd)\n",
      "master['motion'] = zscore(master['motion'])"
     ],
     "language": "python",
     "metadata": {},
     "outputs": [],
     "prompt_number": 6
    },
    {
     "cell_type": "code",
     "collapsed": false,
     "input": [],
     "language": "python",
     "metadata": {},
     "outputs": [],
     "prompt_number": 15
    },
    {
     "cell_type": "code",
     "collapsed": false,
     "input": [],
     "language": "python",
     "metadata": {},
     "outputs": []
    }
   ],
   "metadata": {}
  }
 ]
}