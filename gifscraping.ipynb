{
 "metadata": {
  "name": "",
  "signature": "sha256:41235d89e8b851941913cbf1f25e5f385f08ff1611e8e92f0ee5bd1c12fba236"
 },
 "nbformat": 3,
 "nbformat_minor": 0,
 "worksheets": [
  {
   "cells": [
    {
     "cell_type": "code",
     "collapsed": false,
     "input": [
      "import urllib2\n",
      "from BeautifulSoup import BeautifulSoup\n",
      "\n",
      "\n"
     ],
     "language": "python",
     "metadata": {},
     "outputs": [],
     "prompt_number": 17
    },
    {
     "cell_type": "code",
     "collapsed": false,
     "input": [
      "# Simple example of scraping a single page for gifs\n",
      "\n",
      "page = urllib2.urlopen('http://www.buzzfeed.com/mallorymcinnis/look-at-these-illustrated-gifs-please').read()\n",
      "soup = BeautifulSoup(page)\n",
      "soup.prettify()\n",
      "'''for tag in soup.findAll('img'):\n",
      "    if tag.has_key('src'):\n",
      "        img = tag['src']\n",
      "        if(img[-12:] == \"_preview.gif\"):\n",
      "            img = img[:-12] + \".gif\"\n",
      "            print img'''\n",
      "for tag in soup.findAll('h2'):\n",
      "     print ''.join(tag.findAll(text=True))\n"
     ],
     "language": "python",
     "metadata": {},
     "outputs": [
      {
       "output_type": "stream",
       "stream": "stdout",
       "text": [
        "1. Did you spend two hours painstakingly curling your hair only to have the whole coif collapse in a sudden downpour?\n",
        "2. Did your dentist tell you that you can&#8217;t drink soda anymore because your teeth are about to crumble away like the nose of the Sphinx?\n",
        "3. Did you get dumped in the middle of your own birthday party by the fedora-wearing, jerk-ass boyfriend you never even really liked?\n",
        "4. Did your cat lay down on top of your sandwich and cover the focaccia with his fur?\n",
        "5. Did you slip on a banana peel as you made your way onto the dance floor at your high school reunion?\n",
        "6. Were you attempting to take a selfie with Harry Styles when a duck decided to empty his bowels on your head?\n",
        "7. Did you get so overly enthusiastic with your cheering at a basketball game that your boob popped right up out of your bra and into the public eye?\n",
        "8. Did you drive over a hundred miles to visit a llama farm, run up to the gate and (boom!) get spit on?\n",
        "9. Is working in a bland cubicle getting you down?\n",
        "10. Did you accidentally dribble the iced coffee out of your mouth, down your chin and onto your favorite shirt (all while standing next to your crush)?\n",
        "11. Does the sound of a ticking clock fill you with dread and force you to constantly confront your own mortality?\n",
        "12. Do you believe in unicorns? Does everyone you know scream at you claiming that they&#8217;re not real? Do you cry about it at night?\n",
        "13. Did you just spend over an hour on WebMD convincing yourself that you have a combination of five rare, fatal diseases?\n",
        "14. Did your American Eskimo dog leap out of your arms and into the dumpster of an Italian restaurant?\n",
        "15. Did you spend an exorbitant amount of money on a new pair of shoes that started to give you blisters a mere hour after slipping them on?\n",
        "16. Did you finally get enough courage to jump off the rope swing into the river only to lose your swim trunks downstream?\n",
        "17. Did a gust of wind blow up your skirt and reveal your underwear to at least twenty bystanders?\n",
        "18. Did your hard drive conk out while you were in the middle of typing the last page of your thesis?\n",
        "19. Did something (shall we say) &#8220;very embarrassing&#8221; happen when you were in the ski lodge at the mountain this weekend?\n",
        "20. Do you live in an apartment building that doesn&#8217;t allow pets and feel like weeping every time you see someone&#8217;s Instagram photo of a dog or cat?\n",
        "21. Are you sitting at work and filled with insurmountable despair: it&#8217;s only Wednesday?!?!\n",
        "22. Did you walk out to an island during low tide, fall asleep after eating a particularly enormous sandwich and get stranded there?\n",
        "23. Did you (in a haze of tipsiness) try to climb a tree and topple out of it into a prickly mass of rose bushes?\n",
        "24. Did a seal bite off your hand?\n",
        "25. Did you get guilt-tripped into going ice fishing with your brothers even though you&#8217;d rather be fishing ice out of the freezer to put into a series of cocktails? Cocktails you&#8217;d be drinking while sitting cozily on your couch watching Netflix?\n",
        "26. Is your throat so sore that you haven&#8217;t been able to swallow anything more substantial than soup for what feels like decades?\n",
        "27. Are you a runty toucan incapable of fluttering from branch to branch to seek out food to crunch in your massive beak?\n",
        "27 Illustrated GIFs That Will Brighten Even The Most Horrible Day\n",
        "Your link was successfully shared!\n",
        "More Buzz\n",
        "Note: once you save these links, they will no longer update automatically.\n",
        "More Buzz\n",
        "Note: once you save these links, they will no longer update automatically.\n",
        "\n",
        "\n",
        "\n",
        "\n",
        "BuzzFeed diy\n",
        "\n",
        "Here&#8217;s What Pixar Voice Actors Look Like In Real Life\n",
        "22 Things That Happen When You&#8217;re The Only Sister Among Brothers\n",
        "\n",
        "8 More Urban Dictionary Definitions You Need To Know\n",
        "Janice Dickinson Says Bill Cosby Raped Her\n",
        "\n",
        "How Guys Should Act On First Dates Vs. How They Do Act\n",
        "Netflix Is Officially Coming To Australia And New Zealand In March 2015\n",
        "Childhood Snacks Taste Test\n",
        "Do You Sleep Normally?\n"
       ]
      }
     ],
     "prompt_number": 23
    },
    {
     "cell_type": "code",
     "collapsed": false,
     "input": [],
     "language": "python",
     "metadata": {},
     "outputs": []
    }
   ],
   "metadata": {}
  }
 ]
}